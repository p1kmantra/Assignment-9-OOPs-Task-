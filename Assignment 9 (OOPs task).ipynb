{
 "cells": [
  {
   "cell_type": "markdown",
   "id": "d0b0eb25-17b8-4e7d-aed9-75b1ca1fca6b",
   "metadata": {},
   "source": [
    "Q.1.Create a vehicle class with an init method having instance variable as name_of_vehicle ,max_speed and average_of_vehicle."
   ]
  },
  {
   "cell_type": "code",
   "execution_count": 1,
   "id": "000c6b53-5988-4bac-9fac-50f6329e09ea",
   "metadata": {},
   "outputs": [],
   "source": [
    "class vehicle:\n",
    "    \n",
    "    def __init__(self,name_of_vehicle,max_speed,average_of_vehicle):\n",
    "        \n",
    "        self.name_of_vehicle=name_of_vehicle\n",
    "        self.max_speed=max_speed\n",
    "        self.average_of_vehicle=average_of_vehicle\n",
    "        \n",
    "    def details_of_vehicle(self):\n",
    "        return self.name_of_vehocle,self.max_speed,self.average_of_vehicle"
   ]
  },
  {
   "cell_type": "code",
   "execution_count": 11,
   "id": "c680cf91-5977-43d1-87ec-77a5905242ac",
   "metadata": {},
   "outputs": [],
   "source": [
    "know=vehicle(\"Maruti Suzuki Fronx\",316,20)"
   ]
  },
  {
   "cell_type": "code",
   "execution_count": 6,
   "id": "5c18b187-9519-4bd3-ac8f-10fb363d793a",
   "metadata": {},
   "outputs": [
    {
     "data": {
      "text/plain": [
       "'Maruti Suzuki Fronx'"
      ]
     },
     "execution_count": 6,
     "metadata": {},
     "output_type": "execute_result"
    }
   ],
   "source": [
    "know.name_of_vehicle"
   ]
  },
  {
   "cell_type": "code",
   "execution_count": 7,
   "id": "edefdbf5-ce57-4d22-908e-e13d3ccf33a2",
   "metadata": {},
   "outputs": [
    {
     "data": {
      "text/plain": [
       "316"
      ]
     },
     "execution_count": 7,
     "metadata": {},
     "output_type": "execute_result"
    }
   ],
   "source": [
    "know.max_speed"
   ]
  },
  {
   "cell_type": "code",
   "execution_count": 12,
   "id": "3fb09cf7-7927-4369-9ccb-a810a54bea2c",
   "metadata": {},
   "outputs": [
    {
     "data": {
      "text/plain": [
       "20"
      ]
     },
     "execution_count": 12,
     "metadata": {},
     "output_type": "execute_result"
    }
   ],
   "source": [
    "know.average_of_vehicle"
   ]
  },
  {
   "cell_type": "code",
   "execution_count": null,
   "id": "d9af9c86-073c-4b8b-b80c-a02ee535987e",
   "metadata": {},
   "outputs": [],
   "source": []
  },
  {
   "cell_type": "markdown",
   "id": "ec06b1d6-4421-4bc3-bb58-d439fd73328b",
   "metadata": {},
   "source": [
    "Q.2.Create a child class car from the vehicle class created in Que1 ,which will inherit the vehicle class .create a method named seating_capacity which takes capacity as an argument and returns the name of the vehicle and its seating capacity."
   ]
  },
  {
   "cell_type": "code",
   "execution_count": null,
   "id": "fe468860-beee-4f63-b2aa-e35b0f68a3c1",
   "metadata": {},
   "outputs": [],
   "source": [
    "Ans."
   ]
  },
  {
   "cell_type": "code",
   "execution_count": 9,
   "id": "ada3d145-2631-4d46-ba19-9fdd248e84d3",
   "metadata": {},
   "outputs": [],
   "source": [
    "class vehicle:\n",
    "    def name_of_vehicle(self):\n",
    "        return \"Maruti Suzuki Fronx\""
   ]
  },
  {
   "cell_type": "code",
   "execution_count": 10,
   "id": "bda274d8-119b-4468-9947-6813e47b5878",
   "metadata": {},
   "outputs": [],
   "source": [
    "class car(vehicle):\n",
    "    def capacity_of_car(vehicle):\n",
    "        return \"5\""
   ]
  },
  {
   "cell_type": "code",
   "execution_count": 11,
   "id": "83c8d74e-88d3-4e53-bde0-859ddc67840e",
   "metadata": {},
   "outputs": [],
   "source": [
    "class details_of_car(car):\n",
    "    pass"
   ]
  },
  {
   "cell_type": "code",
   "execution_count": 12,
   "id": "5d61418e-57b6-4200-a74f-4efd2d188af9",
   "metadata": {},
   "outputs": [],
   "source": [
    "about=details_of_car()"
   ]
  },
  {
   "cell_type": "code",
   "execution_count": 17,
   "id": "8fdaee36-83b1-4c47-873f-e80b3fbd2645",
   "metadata": {},
   "outputs": [
    {
     "data": {
      "text/plain": [
       "'Maruti Suzuki Fronx'"
      ]
     },
     "execution_count": 17,
     "metadata": {},
     "output_type": "execute_result"
    }
   ],
   "source": [
    "about.name_of_vehicle()"
   ]
  },
  {
   "cell_type": "code",
   "execution_count": 15,
   "id": "ed9ac02f-74ec-4865-baaf-24c6f07302c1",
   "metadata": {},
   "outputs": [
    {
     "data": {
      "text/plain": [
       "'5'"
      ]
     },
     "execution_count": 15,
     "metadata": {},
     "output_type": "execute_result"
    }
   ],
   "source": [
    "about.capacity_of_car()"
   ]
  },
  {
   "cell_type": "code",
   "execution_count": null,
   "id": "cf39bc6e-349d-43fb-a934-030788ef32c0",
   "metadata": {},
   "outputs": [],
   "source": []
  },
  {
   "cell_type": "markdown",
   "id": "02704fd8-51d0-429a-8143-c57e8dc544c2",
   "metadata": {},
   "source": [
    "Q.3.What is multiple inheritance ? Write a Python code to demonstrate Multiple Inheritance ."
   ]
  },
  {
   "cell_type": "markdown",
   "id": "0ec5f828-25e7-484a-8926-9820e32cbc90",
   "metadata": {},
   "source": [
    "Ans. The method,through which ,we can inherit multiple classes's properties in single class ,called Multiple inheritance.In other words,a class can derive characteristics and behaviors from more than one parent class.Here I am going to give an example of Multiple inheritance"
   ]
  },
  {
   "cell_type": "code",
   "execution_count": 16,
   "id": "67953ea8-e5f4-46df-9c4f-a89e38726eff",
   "metadata": {},
   "outputs": [],
   "source": [
    "class mentors:\n",
    "    def name_of_mentors(self):\n",
    "        return \"sudhanshu\",\"krish\"\n",
    "\n",
    "class batches:\n",
    "    def name_of_batches(self):\n",
    "        return \"Data Science\",\"Big Data\"\n",
    "    \n",
    "class pwskills(mentors,batches):\n",
    "    pass\n"
   ]
  },
  {
   "cell_type": "code",
   "execution_count": 17,
   "id": "53aa02c8-34b7-4d9f-a2d8-955b2425567a",
   "metadata": {},
   "outputs": [],
   "source": [
    "join_with=pwskills()"
   ]
  },
  {
   "cell_type": "code",
   "execution_count": 18,
   "id": "4a104b3a-eceb-4515-b26f-c1fbb1577ea9",
   "metadata": {},
   "outputs": [
    {
     "data": {
      "text/plain": [
       "('sudhanshu', 'krish')"
      ]
     },
     "execution_count": 18,
     "metadata": {},
     "output_type": "execute_result"
    }
   ],
   "source": [
    "join_with.name_of_mentors()"
   ]
  },
  {
   "cell_type": "code",
   "execution_count": 19,
   "id": "b0c43bf8-690d-4775-97d2-a9ae4c398e84",
   "metadata": {},
   "outputs": [
    {
     "data": {
      "text/plain": [
       "('Data Science', 'Big Data')"
      ]
     },
     "execution_count": 19,
     "metadata": {},
     "output_type": "execute_result"
    }
   ],
   "source": [
    "join_with.name_of_batches()"
   ]
  },
  {
   "cell_type": "markdown",
   "id": "413463f7-9d7a-4259-9ec6-5036fcf7bb97",
   "metadata": {},
   "source": [
    "Although ,it provides a way to invoke methods or access attributes defined in the parent class "
   ]
  },
  {
   "cell_type": "code",
   "execution_count": null,
   "id": "a38fa919-61e6-4091-a5c2-ac685d73aed8",
   "metadata": {},
   "outputs": [],
   "source": []
  },
  {
   "cell_type": "markdown",
   "id": "3970475c-35e0-4465-ba80-ee99904c1bd2",
   "metadata": {},
   "source": [
    "Q.4.what are getter and setter in Python ? Create a class and create a getter and setter method in this class"
   ]
  },
  {
   "cell_type": "markdown",
   "id": "bcf421af-76d4-476a-a78d-5335297e1096",
   "metadata": {},
   "source": [
    "Ans. In Python ,getters and setters are methods or functiions that allow controlled accesss to an object's attributes or properties. They are commanly used to enforce encapsulation and provide a way to read and modify private or protected attributes of an object. "
   ]
  },
  {
   "cell_type": "code",
   "execution_count": 10,
   "id": "18970c7e-2e90-46ec-8ca3-5cd3c6434ef0",
   "metadata": {},
   "outputs": [],
   "source": [
    "class mobile:\n",
    "    def __init__(self,year,model,password):\n",
    "        self.__year=year\n",
    "        self.__model=model\n",
    "        self.__password=password\n",
    "        \n",
    "    def set_password(self,password):\n",
    "        self.__password=0 if password <1000 else password\n",
    "        \n",
    "    def get_password(self):\n",
    "        return self.__password"
   ]
  },
  {
   "cell_type": "code",
   "execution_count": 11,
   "id": "f2c5b5a6-b067-441c-a4dc-5b9806c71f19",
   "metadata": {},
   "outputs": [],
   "source": [
    "found=mobile(2023,\"oneplus\",45)"
   ]
  },
  {
   "cell_type": "code",
   "execution_count": 12,
   "id": "11b4511b-5f51-4da9-b3ae-56e8be465b6e",
   "metadata": {},
   "outputs": [],
   "source": [
    "found.set_password(100)"
   ]
  },
  {
   "cell_type": "code",
   "execution_count": 13,
   "id": "5e58d9de-f00e-4cf0-b0f2-bc5df63a614b",
   "metadata": {},
   "outputs": [
    {
     "data": {
      "text/plain": [
       "0"
      ]
     },
     "execution_count": 13,
     "metadata": {},
     "output_type": "execute_result"
    }
   ],
   "source": [
    "found.get_password()"
   ]
  },
  {
   "cell_type": "code",
   "execution_count": 14,
   "id": "02218e40-2733-4c1e-bb66-a8c1272f9f4a",
   "metadata": {},
   "outputs": [],
   "source": [
    "found.set_password(4536)"
   ]
  },
  {
   "cell_type": "code",
   "execution_count": 15,
   "id": "c68e501e-25ac-4744-aa7f-b90a8c8dea95",
   "metadata": {},
   "outputs": [
    {
     "data": {
      "text/plain": [
       "4536"
      ]
     },
     "execution_count": 15,
     "metadata": {},
     "output_type": "execute_result"
    }
   ],
   "source": [
    "found.get_password()"
   ]
  },
  {
   "cell_type": "code",
   "execution_count": null,
   "id": "d86d673e-4cf0-413a-9967-22d3d70bb076",
   "metadata": {},
   "outputs": [],
   "source": []
  },
  {
   "cell_type": "markdown",
   "id": "440f9b96-11f7-4f89-bcc9-3d418e0ad14b",
   "metadata": {},
   "source": [
    "Q.5.What is method overriding in Python ? Write a Python code to demonstrate method overriding."
   ]
  },
  {
   "cell_type": "code",
   "execution_count": null,
   "id": "1b99134f-0e72-4e2b-a1ce-2dbea13817d3",
   "metadata": {},
   "outputs": [],
   "source": []
  },
  {
   "cell_type": "markdown",
   "id": "d71c8531-6234-4220-aca0-dcdfd4e3ec47",
   "metadata": {},
   "source": [
    "Ans.In Python ,overriding refers to the ability of subclass to provide a different implemantation of a method that is already defined in its superclass .When a method in the subclass has the same name as a method in its superclass and it is intended to provide a modified or specialized behavior ,the subclass method overrides the superclass method. "
   ]
  },
  {
   "cell_type": "code",
   "execution_count": 30,
   "id": "f65525d5-8701-4e1e-8da7-7f5f0bc13f2f",
   "metadata": {},
   "outputs": [],
   "source": [
    "class city:\n",
    "    area_code = 34561\n",
    "    \n",
    "    def __init__(self,name_of_city,address):\n",
    "        self.name_of_city =name_of_city\n",
    "        self.address=address\n",
    "        \n",
    "    @classmethod\n",
    "    def change_code(cls,code):\n",
    "        city.area_code=code\n",
    "        \n",
    "    @classmethod\n",
    "    def details(cls,name_of_city,address):\n",
    "        return cls(name_of_city,address)\n",
    "    \n",
    "    def personal_details(self):\n",
    "        print(self.name_of_city,self.address,city.area_code)"
   ]
  },
  {
   "cell_type": "code",
   "execution_count": 31,
   "id": "67a1f66b-8817-4855-b0c4-41064a31e59e",
   "metadata": {},
   "outputs": [],
   "source": [
    "residential=city.details(\"Kathar\",\"Durgapur\")"
   ]
  },
  {
   "cell_type": "code",
   "execution_count": 32,
   "id": "d303bd0c-b32a-4601-b2fa-1e7ec7619f19",
   "metadata": {},
   "outputs": [
    {
     "name": "stdout",
     "output_type": "stream",
     "text": [
      "Kathar Durgapur 34561\n"
     ]
    }
   ],
   "source": [
    "residential.personal_details()"
   ]
  },
  {
   "cell_type": "code",
   "execution_count": 33,
   "id": "a87f83b7-b7da-4412-a6ae-ef82657c9cb4",
   "metadata": {},
   "outputs": [],
   "source": [
    "city.change_code(65470)"
   ]
  },
  {
   "cell_type": "code",
   "execution_count": 34,
   "id": "d5ba51d9-5596-4b71-a4a8-0bc02a8a4d5f",
   "metadata": {},
   "outputs": [
    {
     "data": {
      "text/plain": [
       "65470"
      ]
     },
     "execution_count": 34,
     "metadata": {},
     "output_type": "execute_result"
    }
   ],
   "source": [
    "city.area_code"
   ]
  },
  {
   "cell_type": "code",
   "execution_count": null,
   "id": "3e788c20-86ed-4a15-8f3b-7b4e104eff69",
   "metadata": {},
   "outputs": [],
   "source": []
  }
 ],
 "metadata": {
  "kernelspec": {
   "display_name": "Python 3 (ipykernel)",
   "language": "python",
   "name": "python3"
  },
  "language_info": {
   "codemirror_mode": {
    "name": "ipython",
    "version": 3
   },
   "file_extension": ".py",
   "mimetype": "text/x-python",
   "name": "python",
   "nbconvert_exporter": "python",
   "pygments_lexer": "ipython3",
   "version": "3.10.8"
  }
 },
 "nbformat": 4,
 "nbformat_minor": 5
}
